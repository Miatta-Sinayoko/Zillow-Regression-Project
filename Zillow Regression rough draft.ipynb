{
 "cells": [
  {
   "cell_type": "markdown",
   "id": "038f0be1",
   "metadata": {},
   "source": []
  },
  {
   "cell_type": "code",
   "execution_count": 1,
   "id": "5ed87c61",
   "metadata": {},
   "outputs": [],
   "source": [
    "#Import Libraries\n",
    "import os\n",
    "import pandas as pd\n",
    "import matplotlib.pyplot as plt\n",
    "import seaborn as sns\n",
    "import numpy as np\n",
    "from env import host, user, password\n",
    "\n",
    "from scipy import stats\n",
    "from pydataset import data\n",
    "from sklearn.model_selection import train_test_split\n",
    "from sklearn.impute import SimpleImputer\n",
    "from sklearn.preprocessing import MinMaxScaler, RobustScaler, StandardScaler\n",
    "\n",
    "import explore as e\n",
    "import wrangle as w\n",
    "import warnings\n",
    "warnings.filterwarnings('ignore')\n",
    "import statsmodels.api as sm\n",
    "from sklearn.linear_model import LinearRegression\n"
   ]
  },
  {
   "cell_type": "markdown",
   "id": "c53abc9b-5885-4b69-a87b-7d30b8c3440b",
   "metadata": {},
   "source": [
    "# Acquire\n",
    "* Data acquired from Codeup database\n",
    "* The data set has 5 columns and 52,441 rows before cleaning\n",
    "* Each row is a single property\n",
    "* Each column contains information about the properties"
   ]
  },
  {
   "cell_type": "code",
   "execution_count": 2,
   "id": "81903e81",
   "metadata": {},
   "outputs": [],
   "source": [
    "df = w.get_zillow_data()"
   ]
  },
  {
   "cell_type": "code",
   "execution_count": 3,
   "id": "ae518409",
   "metadata": {},
   "outputs": [
    {
     "data": {
      "text/html": [
       "<div>\n",
       "<style scoped>\n",
       "    .dataframe tbody tr th:only-of-type {\n",
       "        vertical-align: middle;\n",
       "    }\n",
       "\n",
       "    .dataframe tbody tr th {\n",
       "        vertical-align: top;\n",
       "    }\n",
       "\n",
       "    .dataframe thead th {\n",
       "        text-align: right;\n",
       "    }\n",
       "</style>\n",
       "<table border=\"1\" class=\"dataframe\">\n",
       "  <thead>\n",
       "    <tr style=\"text-align: right;\">\n",
       "      <th></th>\n",
       "      <th>bedroomcnt</th>\n",
       "      <th>bathroomcnt</th>\n",
       "      <th>calculatedfinishedsquarefeet</th>\n",
       "      <th>taxvaluedollarcnt</th>\n",
       "      <th>fips</th>\n",
       "    </tr>\n",
       "  </thead>\n",
       "  <tbody>\n",
       "    <tr>\n",
       "      <th>0</th>\n",
       "      <td>4.0</td>\n",
       "      <td>3.5</td>\n",
       "      <td>3100.0</td>\n",
       "      <td>1023282.0</td>\n",
       "      <td>6059.0</td>\n",
       "    </tr>\n",
       "    <tr>\n",
       "      <th>1</th>\n",
       "      <td>2.0</td>\n",
       "      <td>1.0</td>\n",
       "      <td>1465.0</td>\n",
       "      <td>464000.0</td>\n",
       "      <td>6111.0</td>\n",
       "    </tr>\n",
       "    <tr>\n",
       "      <th>2</th>\n",
       "      <td>3.0</td>\n",
       "      <td>2.0</td>\n",
       "      <td>1243.0</td>\n",
       "      <td>564778.0</td>\n",
       "      <td>6059.0</td>\n",
       "    </tr>\n",
       "    <tr>\n",
       "      <th>3</th>\n",
       "      <td>4.0</td>\n",
       "      <td>3.0</td>\n",
       "      <td>2376.0</td>\n",
       "      <td>145143.0</td>\n",
       "      <td>6037.0</td>\n",
       "    </tr>\n",
       "    <tr>\n",
       "      <th>4</th>\n",
       "      <td>4.0</td>\n",
       "      <td>3.0</td>\n",
       "      <td>2962.0</td>\n",
       "      <td>773303.0</td>\n",
       "      <td>6037.0</td>\n",
       "    </tr>\n",
       "  </tbody>\n",
       "</table>\n",
       "</div>"
      ],
      "text/plain": [
       "   bedroomcnt  bathroomcnt  calculatedfinishedsquarefeet  taxvaluedollarcnt  \\\n",
       "0         4.0          3.5                        3100.0          1023282.0   \n",
       "1         2.0          1.0                        1465.0           464000.0   \n",
       "2         3.0          2.0                        1243.0           564778.0   \n",
       "3         4.0          3.0                        2376.0           145143.0   \n",
       "4         4.0          3.0                        2962.0           773303.0   \n",
       "\n",
       "     fips  \n",
       "0  6059.0  \n",
       "1  6111.0  \n",
       "2  6059.0  \n",
       "3  6037.0  \n",
       "4  6037.0  "
      ]
     },
     "execution_count": 3,
     "metadata": {},
     "output_type": "execute_result"
    }
   ],
   "source": [
    "df.head()"
   ]
  },
  {
   "cell_type": "code",
   "execution_count": 4,
   "id": "768f8b7a",
   "metadata": {
    "scrolled": true
   },
   "outputs": [
    {
     "name": "stdout",
     "output_type": "stream",
     "text": [
      "<class 'pandas.core.frame.DataFrame'>\n",
      "RangeIndex: 52441 entries, 0 to 52440\n",
      "Data columns (total 5 columns):\n",
      " #   Column                        Non-Null Count  Dtype  \n",
      "---  ------                        --------------  -----  \n",
      " 0   bedroomcnt                    52441 non-null  float64\n",
      " 1   bathroomcnt                   52441 non-null  float64\n",
      " 2   calculatedfinishedsquarefeet  52359 non-null  float64\n",
      " 3   taxvaluedollarcnt             52440 non-null  float64\n",
      " 4   fips                          52441 non-null  float64\n",
      "dtypes: float64(5)\n",
      "memory usage: 2.0 MB\n"
     ]
    }
   ],
   "source": [
    "df.info()"
   ]
  },
  {
   "cell_type": "code",
   "execution_count": 5,
   "id": "53b84882",
   "metadata": {},
   "outputs": [
    {
     "data": {
      "text/html": [
       "<div>\n",
       "<style scoped>\n",
       "    .dataframe tbody tr th:only-of-type {\n",
       "        vertical-align: middle;\n",
       "    }\n",
       "\n",
       "    .dataframe tbody tr th {\n",
       "        vertical-align: top;\n",
       "    }\n",
       "\n",
       "    .dataframe thead th {\n",
       "        text-align: right;\n",
       "    }\n",
       "</style>\n",
       "<table border=\"1\" class=\"dataframe\">\n",
       "  <thead>\n",
       "    <tr style=\"text-align: right;\">\n",
       "      <th></th>\n",
       "      <th>count</th>\n",
       "      <th>mean</th>\n",
       "      <th>std</th>\n",
       "      <th>min</th>\n",
       "      <th>25%</th>\n",
       "      <th>50%</th>\n",
       "      <th>75%</th>\n",
       "      <th>max</th>\n",
       "    </tr>\n",
       "  </thead>\n",
       "  <tbody>\n",
       "    <tr>\n",
       "      <th>bedroomcnt</th>\n",
       "      <td>52441.0</td>\n",
       "      <td>3.300681</td>\n",
       "      <td>0.949094</td>\n",
       "      <td>0.0</td>\n",
       "      <td>3.0</td>\n",
       "      <td>3.0</td>\n",
       "      <td>4.00</td>\n",
       "      <td>14.0</td>\n",
       "    </tr>\n",
       "    <tr>\n",
       "      <th>bathroomcnt</th>\n",
       "      <td>52441.0</td>\n",
       "      <td>2.299403</td>\n",
       "      <td>1.022772</td>\n",
       "      <td>0.0</td>\n",
       "      <td>2.0</td>\n",
       "      <td>2.0</td>\n",
       "      <td>3.00</td>\n",
       "      <td>18.0</td>\n",
       "    </tr>\n",
       "    <tr>\n",
       "      <th>calculatedfinishedsquarefeet</th>\n",
       "      <td>52359.0</td>\n",
       "      <td>1922.890754</td>\n",
       "      <td>1004.365838</td>\n",
       "      <td>128.0</td>\n",
       "      <td>1268.0</td>\n",
       "      <td>1659.0</td>\n",
       "      <td>2306.00</td>\n",
       "      <td>21929.0</td>\n",
       "    </tr>\n",
       "    <tr>\n",
       "      <th>taxvaluedollarcnt</th>\n",
       "      <td>52440.0</td>\n",
       "      <td>529688.163921</td>\n",
       "      <td>751894.553363</td>\n",
       "      <td>1000.0</td>\n",
       "      <td>193747.5</td>\n",
       "      <td>373612.0</td>\n",
       "      <td>619301.25</td>\n",
       "      <td>49061236.0</td>\n",
       "    </tr>\n",
       "    <tr>\n",
       "      <th>fips</th>\n",
       "      <td>52441.0</td>\n",
       "      <td>6049.132149</td>\n",
       "      <td>21.029067</td>\n",
       "      <td>6037.0</td>\n",
       "      <td>6037.0</td>\n",
       "      <td>6037.0</td>\n",
       "      <td>6059.00</td>\n",
       "      <td>6111.0</td>\n",
       "    </tr>\n",
       "  </tbody>\n",
       "</table>\n",
       "</div>"
      ],
      "text/plain": [
       "                                count           mean            std     min  \\\n",
       "bedroomcnt                    52441.0       3.300681       0.949094     0.0   \n",
       "bathroomcnt                   52441.0       2.299403       1.022772     0.0   \n",
       "calculatedfinishedsquarefeet  52359.0    1922.890754    1004.365838   128.0   \n",
       "taxvaluedollarcnt             52440.0  529688.163921  751894.553363  1000.0   \n",
       "fips                          52441.0    6049.132149      21.029067  6037.0   \n",
       "\n",
       "                                   25%       50%        75%         max  \n",
       "bedroomcnt                         3.0       3.0       4.00        14.0  \n",
       "bathroomcnt                        2.0       2.0       3.00        18.0  \n",
       "calculatedfinishedsquarefeet    1268.0    1659.0    2306.00     21929.0  \n",
       "taxvaluedollarcnt             193747.5  373612.0  619301.25  49061236.0  \n",
       "fips                            6037.0    6037.0    6059.00      6111.0  "
      ]
     },
     "execution_count": 5,
     "metadata": {},
     "output_type": "execute_result"
    }
   ],
   "source": [
    "df.describe().T"
   ]
  },
  {
   "cell_type": "code",
   "execution_count": 6,
   "id": "2d2d06d9",
   "metadata": {},
   "outputs": [
    {
     "data": {
      "text/plain": [
       "(52441, 5)"
      ]
     },
     "execution_count": 6,
     "metadata": {},
     "output_type": "execute_result"
    }
   ],
   "source": [
    "# Understand the size of the DataFrame\n",
    "df.shape\n"
   ]
  },
  {
   "cell_type": "code",
   "execution_count": 7,
   "id": "a2c44776",
   "metadata": {},
   "outputs": [
    {
     "data": {
      "text/plain": [
       "3.0     23359\n",
       "4.0     15240\n",
       "2.0      8340\n",
       "5.0      3973\n",
       "6.0       635\n",
       "1.0       612\n",
       "0.0       137\n",
       "7.0       106\n",
       "8.0        24\n",
       "9.0         8\n",
       "12.0        3\n",
       "10.0        2\n",
       "14.0        1\n",
       "11.0        1\n",
       "Name: bedroomcnt, dtype: int64"
      ]
     },
     "execution_count": 7,
     "metadata": {},
     "output_type": "execute_result"
    }
   ],
   "source": [
    "df.bedroomcnt.value_counts()\n"
   ]
  },
  {
   "cell_type": "code",
   "execution_count": 8,
   "id": "7ea33a31",
   "metadata": {},
   "outputs": [
    {
     "data": {
      "text/plain": [
       "2.0     21893\n",
       "3.0     10673\n",
       "1.0      9568\n",
       "2.5      3934\n",
       "4.0      2227\n",
       "3.5       918\n",
       "1.5       841\n",
       "5.0       803\n",
       "4.5       687\n",
       "6.0       322\n",
       "5.5       224\n",
       "0.0       121\n",
       "7.0        88\n",
       "8.0        53\n",
       "6.5        47\n",
       "7.5        16\n",
       "9.0        13\n",
       "10.0        5\n",
       "11.0        3\n",
       "8.5         3\n",
       "18.0        1\n",
       "13.0        1\n",
       "Name: bathroomcnt, dtype: int64"
      ]
     },
     "execution_count": 8,
     "metadata": {},
     "output_type": "execute_result"
    }
   ],
   "source": [
    "df.bathroomcnt.value_counts()\n"
   ]
  },
  {
   "cell_type": "code",
   "execution_count": 9,
   "id": "1ed3a9ec-ae2b-4207-b3ef-1982a00cd818",
   "metadata": {},
   "outputs": [
    {
     "data": {
      "text/plain": [
       "0.1582731069201579"
      ]
     },
     "execution_count": 9,
     "metadata": {},
     "output_type": "execute_result"
    }
   ],
   "source": [
    "# Calculate percent of data loss from dropping nulls\n",
    "(83 / 52441) * 100"
   ]
  },
  {
   "cell_type": "code",
   "execution_count": 10,
   "id": "68d8fe6e",
   "metadata": {},
   "outputs": [
    {
     "data": {
      "text/plain": [
       "array([6059., 6111., 6037.])"
      ]
     },
     "execution_count": 10,
     "metadata": {},
     "output_type": "execute_result"
    }
   ],
   "source": [
    "# See the unique values for the fips column\n",
    "df.fips.unique()"
   ]
  },
  {
   "cell_type": "code",
   "execution_count": 11,
   "id": "ca904a8f",
   "metadata": {},
   "outputs": [
    {
     "data": {
      "text/plain": [
       "bedroomcnt                       0\n",
       "bathroomcnt                      0\n",
       "calculatedfinishedsquarefeet    82\n",
       "taxvaluedollarcnt                1\n",
       "fips                             0\n",
       "dtype: int64"
      ]
     },
     "execution_count": 11,
     "metadata": {},
     "output_type": "execute_result"
    }
   ],
   "source": [
    "# See how many nulls are in each column\n",
    "df.isnull().sum()"
   ]
  },
  {
   "cell_type": "markdown",
   "id": "f4e2c541",
   "metadata": {},
   "source": [
    "# PREPARE\n",
    "\n",
    "### Tidy Data: \n",
    "* Drop unnecessary axis\n",
    "* Rename\n",
    "* Find nulls\n",
    "* Drop nulls \n",
    "* Chek preperation "
   ]
  },
  {
   "cell_type": "code",
   "execution_count": 12,
   "id": "fc39cc1c-d73f-4b98-8487-65024d5af3fb",
   "metadata": {},
   "outputs": [],
   "source": [
    "# Clean and prepare the data\n",
    "df = w.prep_zillow_data(df) "
   ]
  },
  {
   "cell_type": "code",
   "execution_count": 13,
   "id": "3181ee12",
   "metadata": {},
   "outputs": [
    {
     "data": {
      "text/html": [
       "<div>\n",
       "<style scoped>\n",
       "    .dataframe tbody tr th:only-of-type {\n",
       "        vertical-align: middle;\n",
       "    }\n",
       "\n",
       "    .dataframe tbody tr th {\n",
       "        vertical-align: top;\n",
       "    }\n",
       "\n",
       "    .dataframe thead th {\n",
       "        text-align: right;\n",
       "    }\n",
       "</style>\n",
       "<table border=\"1\" class=\"dataframe\">\n",
       "  <thead>\n",
       "    <tr style=\"text-align: right;\">\n",
       "      <th></th>\n",
       "      <th>bedroom</th>\n",
       "      <th>bathroom</th>\n",
       "      <th>sqft</th>\n",
       "      <th>home_value</th>\n",
       "      <th>county</th>\n",
       "    </tr>\n",
       "  </thead>\n",
       "  <tbody>\n",
       "    <tr>\n",
       "      <th>0</th>\n",
       "      <td>4.0</td>\n",
       "      <td>3.5</td>\n",
       "      <td>3100</td>\n",
       "      <td>1023282.0</td>\n",
       "      <td>Orange</td>\n",
       "    </tr>\n",
       "    <tr>\n",
       "      <th>1</th>\n",
       "      <td>2.0</td>\n",
       "      <td>1.0</td>\n",
       "      <td>1465</td>\n",
       "      <td>464000.0</td>\n",
       "      <td>Ventura</td>\n",
       "    </tr>\n",
       "    <tr>\n",
       "      <th>2</th>\n",
       "      <td>3.0</td>\n",
       "      <td>2.0</td>\n",
       "      <td>1243</td>\n",
       "      <td>564778.0</td>\n",
       "      <td>Orange</td>\n",
       "    </tr>\n",
       "    <tr>\n",
       "      <th>3</th>\n",
       "      <td>4.0</td>\n",
       "      <td>3.0</td>\n",
       "      <td>2376</td>\n",
       "      <td>145143.0</td>\n",
       "      <td>Los Angeles</td>\n",
       "    </tr>\n",
       "    <tr>\n",
       "      <th>4</th>\n",
       "      <td>4.0</td>\n",
       "      <td>3.0</td>\n",
       "      <td>2962</td>\n",
       "      <td>773303.0</td>\n",
       "      <td>Los Angeles</td>\n",
       "    </tr>\n",
       "  </tbody>\n",
       "</table>\n",
       "</div>"
      ],
      "text/plain": [
       "   bedroom  bathroom  sqft  home_value       county\n",
       "0      4.0       3.5  3100   1023282.0       Orange\n",
       "1      2.0       1.0  1465    464000.0      Ventura\n",
       "2      3.0       2.0  1243    564778.0       Orange\n",
       "3      4.0       3.0  2376    145143.0  Los Angeles\n",
       "4      4.0       3.0  2962    773303.0  Los Angeles"
      ]
     },
     "execution_count": 13,
     "metadata": {},
     "output_type": "execute_result"
    }
   ],
   "source": [
    "df.head(5)"
   ]
  },
  {
   "cell_type": "code",
   "execution_count": 14,
   "id": "1ab50d4a",
   "metadata": {},
   "outputs": [
    {
     "name": "stdout",
     "output_type": "stream",
     "text": [
      "<class 'pandas.core.frame.DataFrame'>\n",
      "Int64Index: 46765 entries, 0 to 52440\n",
      "Data columns (total 5 columns):\n",
      " #   Column      Non-Null Count  Dtype  \n",
      "---  ------      --------------  -----  \n",
      " 0   bedroom     46765 non-null  float64\n",
      " 1   bathroom    46765 non-null  float64\n",
      " 2   sqft        46765 non-null  int64  \n",
      " 3   home_value  46765 non-null  float64\n",
      " 4   county      46765 non-null  object \n",
      "dtypes: float64(3), int64(1), object(1)\n",
      "memory usage: 2.1+ MB\n"
     ]
    }
   ],
   "source": [
    "df.info()"
   ]
  },
  {
   "cell_type": "code",
   "execution_count": 15,
   "id": "266bfb11",
   "metadata": {},
   "outputs": [
    {
     "data": {
      "text/plain": [
       "bedroom       0\n",
       "bathroom      0\n",
       "sqft          0\n",
       "home_value    0\n",
       "county        0\n",
       "dtype: int64"
      ]
     },
     "execution_count": 15,
     "metadata": {},
     "output_type": "execute_result"
    }
   ],
   "source": [
    "drop_nulls = df.isnull().sum()\n",
    "drop_nulls\n"
   ]
  },
  {
   "cell_type": "code",
   "execution_count": 16,
   "id": "f54e3b18",
   "metadata": {},
   "outputs": [
    {
     "data": {
      "text/plain": [
       "(46765, 5)"
      ]
     },
     "execution_count": 16,
     "metadata": {},
     "output_type": "execute_result"
    }
   ],
   "source": [
    "df.shape\n"
   ]
  },
  {
   "cell_type": "code",
   "execution_count": 17,
   "id": "6785c217",
   "metadata": {},
   "outputs": [
    {
     "data": {
      "text/plain": [
       "bedroom       False\n",
       "bathroom      False\n",
       "sqft          False\n",
       "home_value    False\n",
       "county        False\n",
       "dtype: bool"
      ]
     },
     "execution_count": 17,
     "metadata": {},
     "output_type": "execute_result"
    }
   ],
   "source": [
    "#Check for are any nulls in fips\n",
    "df.isnull().any()"
   ]
  },
  {
   "cell_type": "code",
   "execution_count": 18,
   "id": "e20c77de",
   "metadata": {},
   "outputs": [
    {
     "data": {
      "text/plain": [
       "Index([], dtype='object')"
      ]
     },
     "execution_count": 18,
     "metadata": {},
     "output_type": "execute_result"
    }
   ],
   "source": [
    "df.columns[df.isnull().any()]\n"
   ]
  },
  {
   "cell_type": "code",
   "execution_count": 19,
   "id": "703b2e29",
   "metadata": {},
   "outputs": [
    {
     "data": {
      "text/html": [
       "<div>\n",
       "<style scoped>\n",
       "    .dataframe tbody tr th:only-of-type {\n",
       "        vertical-align: middle;\n",
       "    }\n",
       "\n",
       "    .dataframe tbody tr th {\n",
       "        vertical-align: top;\n",
       "    }\n",
       "\n",
       "    .dataframe thead th {\n",
       "        text-align: right;\n",
       "    }\n",
       "</style>\n",
       "<table border=\"1\" class=\"dataframe\">\n",
       "  <thead>\n",
       "    <tr style=\"text-align: right;\">\n",
       "      <th></th>\n",
       "      <th>bedroom</th>\n",
       "      <th>bathroom</th>\n",
       "      <th>sqft</th>\n",
       "      <th>home_value</th>\n",
       "      <th>county</th>\n",
       "    </tr>\n",
       "  </thead>\n",
       "  <tbody>\n",
       "    <tr>\n",
       "      <th>0</th>\n",
       "      <td>4.0</td>\n",
       "      <td>3.5</td>\n",
       "      <td>3100</td>\n",
       "      <td>1023282.0</td>\n",
       "      <td>Orange</td>\n",
       "    </tr>\n",
       "    <tr>\n",
       "      <th>1</th>\n",
       "      <td>2.0</td>\n",
       "      <td>1.0</td>\n",
       "      <td>1465</td>\n",
       "      <td>464000.0</td>\n",
       "      <td>Ventura</td>\n",
       "    </tr>\n",
       "    <tr>\n",
       "      <th>2</th>\n",
       "      <td>3.0</td>\n",
       "      <td>2.0</td>\n",
       "      <td>1243</td>\n",
       "      <td>564778.0</td>\n",
       "      <td>Orange</td>\n",
       "    </tr>\n",
       "    <tr>\n",
       "      <th>3</th>\n",
       "      <td>4.0</td>\n",
       "      <td>3.0</td>\n",
       "      <td>2376</td>\n",
       "      <td>145143.0</td>\n",
       "      <td>Los Angeles</td>\n",
       "    </tr>\n",
       "    <tr>\n",
       "      <th>4</th>\n",
       "      <td>4.0</td>\n",
       "      <td>3.0</td>\n",
       "      <td>2962</td>\n",
       "      <td>773303.0</td>\n",
       "      <td>Los Angeles</td>\n",
       "    </tr>\n",
       "  </tbody>\n",
       "</table>\n",
       "</div>"
      ],
      "text/plain": [
       "   bedroom  bathroom  sqft  home_value       county\n",
       "0      4.0       3.5  3100   1023282.0       Orange\n",
       "1      2.0       1.0  1465    464000.0      Ventura\n",
       "2      3.0       2.0  1243    564778.0       Orange\n",
       "3      4.0       3.0  2376    145143.0  Los Angeles\n",
       "4      4.0       3.0  2962    773303.0  Los Angeles"
      ]
     },
     "execution_count": 19,
     "metadata": {},
     "output_type": "execute_result"
    }
   ],
   "source": [
    "df.head()\n"
   ]
  },
  {
   "cell_type": "code",
   "execution_count": 20,
   "id": "817e0fd6",
   "metadata": {},
   "outputs": [
    {
     "ename": "NameError",
     "evalue": "name 'train_test_split' is not defined",
     "output_type": "error",
     "traceback": [
      "\u001b[0;31m---------------------------------------------------------------------------\u001b[0m",
      "\u001b[0;31mNameError\u001b[0m                                 Traceback (most recent call last)",
      "Cell \u001b[0;32mIn[20], line 2\u001b[0m\n\u001b[1;32m      1\u001b[0m \u001b[38;5;66;03m# Split the data into train, validate, and test sets\u001b[39;00m\n\u001b[0;32m----> 2\u001b[0m train, validate, test \u001b[38;5;241m=\u001b[39m \u001b[43mw\u001b[49m\u001b[38;5;241;43m.\u001b[39;49m\u001b[43msplit_data\u001b[49m\u001b[43m(\u001b[49m\u001b[43mdf\u001b[49m\u001b[43m)\u001b[49m\n",
      "File \u001b[0;32m~/codeup-data-science/Zillow-Regression-Project/wrangle.py:99\u001b[0m, in \u001b[0;36msplit_data\u001b[0;34m(df)\u001b[0m\n\u001b[1;32m     95\u001b[0m \u001b[38;5;124;03m'''\u001b[39;00m\n\u001b[1;32m     96\u001b[0m \u001b[38;5;124;03mThis function takes in a DataFrame and returns train, validate, and test DataFrames.\u001b[39;00m\n\u001b[1;32m     97\u001b[0m \u001b[38;5;124;03m'''\u001b[39;00m\n\u001b[1;32m     98\u001b[0m \u001b[38;5;66;03m# Create train_validate and test datasets\u001b[39;00m\n\u001b[0;32m---> 99\u001b[0m train_validate, test \u001b[38;5;241m=\u001b[39m \u001b[43mtrain_test_split\u001b[49m(df, test_size\u001b[38;5;241m=\u001b[39m\u001b[38;5;241m.2\u001b[39m, random_state\u001b[38;5;241m=\u001b[39m\u001b[38;5;241m123\u001b[39m, stratify\u001b[38;5;241m=\u001b[39mdf\u001b[38;5;241m.\u001b[39mchurn)\n\u001b[1;32m    101\u001b[0m \u001b[38;5;66;03m# Split train_validate into train and validate datasets\u001b[39;00m\n\u001b[1;32m    102\u001b[0m train, validate \u001b[38;5;241m=\u001b[39m train_test_split(train_validate, test_size\u001b[38;5;241m=\u001b[39m\u001b[38;5;241m.3\u001b[39m, random_state\u001b[38;5;241m=\u001b[39m\u001b[38;5;241m123\u001b[39m, stratify\u001b[38;5;241m=\u001b[39mtrain_validate\u001b[38;5;241m.\u001b[39mchurn)\n",
      "\u001b[0;31mNameError\u001b[0m: name 'train_test_split' is not defined"
     ]
    }
   ],
   "source": [
    "# Split the data into train, validate, and test sets\n",
    "train, validate, test = w.split_data(df)\n"
   ]
  },
  {
   "cell_type": "markdown",
   "id": "f8aa5157",
   "metadata": {},
   "source": [
    "# EXPLORE"
   ]
  },
  {
   "cell_type": "code",
   "execution_count": null,
   "id": "9f1986ea",
   "metadata": {},
   "outputs": [],
   "source": [
    "#  Explore the senior citizen vs churn\n",
    "senior=sns.countplot(data=train, x='senior_citizen', hue='churn')\n",
    "senior.set_xlabel('Senior Citzen ')\n",
    "senior.set_ylabel('Customer Count')\n",
    "plt.title('Does being a senior citizen have a significant impact on customer churn?')\n",
    "plt.show()\n"
   ]
  },
  {
   "cell_type": "markdown",
   "id": "977c0a82",
   "metadata": {},
   "source": [
    "# Exploring and Visualizations Findings\n",
    "\n",
    "* The visualization shows that there are more senior citizens who churned than non-senior citizens who churned.\n",
    "* The visualization shows that there are more senior citizens who churned than non-senior citizens who churned.\n",
    "* The proportion of senior citizens who churned is higher than the proportion of non-senior citizens who churned.\n",
    "* This suggests that senior citizen status is a significant factor that can influence customer churn."
   ]
  },
  {
   "cell_type": "code",
   "execution_count": null,
   "id": "b4ac43e5",
   "metadata": {},
   "outputs": [],
   "source": [
    "#Visualizing continuous data\n",
    "e.plot_variable_pairs(train)"
   ]
  },
  {
   "cell_type": "code",
   "execution_count": null,
   "id": "9377aa75",
   "metadata": {},
   "outputs": [],
   "source": [
    "Exploring and Visualizations Tenure Findings"
   ]
  },
  {
   "cell_type": "code",
   "execution_count": null,
   "id": "7b23ccec",
   "metadata": {},
   "outputs": [],
   "source": [
    "The scatterplot shows that there is a general trend of churn increasing with tenure.\n",
    "However, there are some customers who churned early in their tenure, and some customers who did not churn even after a long tenure.\n",
    "This suggests that tenure is not the only factor that can influence customer churn."
   ]
  },
  {
   "cell_type": "code",
   "execution_count": null,
   "id": "34207952",
   "metadata": {},
   "outputs": [],
   "source": [
    "#Visualizing the internet service vs churn\n",
    "st=sns.countplot(data=train, x='internet_service_type', hue='churn')\n",
    "st.set_xlabel('internet_service_type')\n",
    "st.set_ylabel('Customer Count')\n",
    "plt.title('Does internet service type have a significant impact on customer churn?')\n",
    "plt.show()"
   ]
  },
  {
   "cell_type": "code",
   "execution_count": null,
   "id": "0a3ba871",
   "metadata": {},
   "outputs": [],
   "source": [
    "Exploring and Visualizations Internet Service Type Findings"
   ]
  },
  {
   "cell_type": "code",
   "execution_count": null,
   "id": "719f9251",
   "metadata": {},
   "outputs": [],
   "source": [
    "The visualization shows that there are more customers with DSL who churned than customers with fiber optic or no internet service who churned.\n",
    "The proportion of customers with DSL who churned is higher than the proportion of customers with fiber optic or no internet service who churned.\n",
    "This suggests that internet service type is a significant factor that can influence customer churn.\n",
    "Statistical Testing"
   ]
  },
  {
   "cell_type": "code",
   "execution_count": null,
   "id": "85ded129",
   "metadata": {},
   "outputs": [],
   "source": [
    "Senior Citizen Hypothesis:\n",
    "• alpha = .05 \n",
    "• H0 = Senior Citizen status is independent of customer churn \n",
    "• Ha = Senior Citizen status is  dependent to customer churn  "
   ]
  },
  {
   "cell_type": "code",
   "execution_count": null,
   "id": "a3759be9",
   "metadata": {},
   "outputs": [],
   "source": [
    "alpha = 0.05\n",
    "senior_observed = pd.crosstab(train.senior_citizen, train.churn)\n",
    "senior_observed"
   ]
  },
  {
   "cell_type": "code",
   "execution_count": null,
   "id": "49dc1445",
   "metadata": {},
   "outputs": [],
   "source": [
    "# Example contingency table\n",
    "senior_observed1 = np.array([[2514, 787],\n",
    "                         [383, 259]])"
   ]
  },
  {
   "cell_type": "code",
   "execution_count": null,
   "id": "701fccf8",
   "metadata": {},
   "outputs": [],
   "source": [
    "chi2, p, dof, expected = chi2_contingency(senior_observed)"
   ]
  },
  {
   "cell_type": "code",
   "execution_count": null,
   "id": "c4b39725",
   "metadata": {},
   "outputs": [],
   "source": [
    "# Print chi-square statistic, p-value, degrees of freedom, and expected frequencies\n",
    "print(\"Chi-square statistic:\", chi2)\n",
    "print(\"p-value:\", p)\n",
    "print(\"Degrees of freedom:\", dof)\n",
    "print(\"Expected frequencies:\", expected)"
   ]
  },
  {
   "cell_type": "code",
   "execution_count": null,
   "id": "7e321137",
   "metadata": {},
   "outputs": [],
   "source": [
    "# Plot the observed frequencies\n",
    "fig, ax = plt.subplots()\n",
    "cax = ax.matshow(senior_observed1, cmap='RdYlBu')\n",
    "fig.colorbar(cax)\n",
    "\n",
    "# Add text to each cell\n",
    "for i in range(senior_observed1.shape[0]):\n",
    "    for j in range(senior_observed1.shape[1]):\n",
    "        ax.text(j, i, senior_observed1[i, j], va='center', ha='center')\n",
    "\n",
    "# Set x and y axis labels\n",
    "plt.xlabel('Column')\n",
    "plt.ylabel('Row')\n",
    "\n",
    "# Set plot title\n",
    "plt.title('Observed Frequencies')\n",
    "\n",
    "# Show the plot\n",
    "plt.show()\n",
    "\n",
    "\n",
    "\n",
    "                        "
   ]
  },
  {
   "cell_type": "code",
   "execution_count": null,
   "id": "4b01632c",
   "metadata": {},
   "outputs": [],
   "source": [
    "print(f'The p-value is less than the alpha: {p < alpha}')\n",
    "\n",
    "if p < alpha:\n",
    "    print('Outcome: We reject the null')\n",
    "else:\n",
    "    print(\"Outcome: We fail to reject the null\")\n",
    "    "
   ]
  },
  {
   "cell_type": "code",
   "execution_count": null,
   "id": "7f872619",
   "metadata": {},
   "outputs": [],
   "source": [
    "Tenure Hypothesis:\n",
    "\n",
    "* alpha = .05\n",
    "* H0 = Tenure is independent of customer churn\n",
    "* Ha = Tenure is dependent to customer churn"
   ]
  },
  {
   "cell_type": "code",
   "execution_count": null,
   "id": "3f8d6fc2",
   "metadata": {},
   "outputs": [],
   "source": [
    "alpha = 0.05\n",
    "tenure_observed = pd.crosstab(train.tenure, train.churn)\n",
    "tenure_observed"
   ]
  },
  {
   "cell_type": "code",
   "execution_count": null,
   "id": "3dfe6527",
   "metadata": {},
   "outputs": [],
   "source": [
    "# Example contingency table\n",
    "tenure_observed1 = np.array([\n",
    "    [8, 0],\n",
    "    [121, 212],\n",
    "    [60, 72]\n",
    "])    "
   ]
  },
  {
   "cell_type": "code",
   "execution_count": null,
   "id": "b882e1f3",
   "metadata": {},
   "outputs": [],
   "source": [
    "chi2, p, dof, expected = chi2_contingency(senior_observed)"
   ]
  },
  {
   "cell_type": "code",
   "execution_count": null,
   "id": "bdc636b1",
   "metadata": {},
   "outputs": [],
   "source": [
    "# Print chi-square statistic, p-value, degrees of freedom, and expected frequencies\n",
    "print(\"Chi-square statistic:\", chi2)\n",
    "print(\"p-value:\", p)\n",
    "print(\"Degrees of freedom:\", dof)\n",
    "print(\"Expected frequencies:\", expected)"
   ]
  },
  {
   "cell_type": "code",
   "execution_count": null,
   "id": "0db46dd4",
   "metadata": {},
   "outputs": [],
   "source": [
    "# Plot the observed frequencies\n",
    "fig, ax = plt.subplots()\n",
    "cax = ax.matshow(tenure_observed1, cmap='RdYlBu')\n",
    "fig.colorbar(cax)\n",
    "\n",
    "# Add text to each cell\n",
    "for i in range(tenure_observed1.shape[0]):\n",
    "    for j in range(tenure_observed1.shape[1]):\n",
    "        ax.text(j, i, tenure_observed1[i, j], va='center', ha='center')\n",
    "\n",
    "# Set x and y axis labels\n",
    "plt.xlabel('Column')\n",
    "plt.ylabel('Row')\n",
    "\n",
    "# Set plot title\n",
    "plt.title('Observed Frequencies')\n",
    "\n",
    "# Show the plot\n",
    "plt.show()"
   ]
  },
  {
   "cell_type": "code",
   "execution_count": null,
   "id": "acafcae4",
   "metadata": {},
   "outputs": [],
   "source": [
    "print(f'The p-value is less than the alpha: {p < alpha}')\n",
    "\n",
    "if p < alpha:\n",
    "    print('Outcome: We reject the null')\n",
    "else:\n",
    "    print(\"Outcome: We fail to reject the null\")\n",
    "    "
   ]
  },
  {
   "cell_type": "code",
   "execution_count": null,
   "id": "3776b712",
   "metadata": {},
   "outputs": [],
   "source": [
    "Intenet Service Type Hypothesis:\n",
    "alpha = .05\n",
    "H0 = Internet Service Type is independent of customer churn\n",
    "Ha = Internet Service Type is dependent to customer churn"
   ]
  },
  {
   "cell_type": "code",
   "execution_count": null,
   "id": "21829821",
   "metadata": {},
   "outputs": [],
   "source": [
    "alpha = 0.05\n",
    "internet_observed = pd.crosstab(train.internet_service_type, train.churn)\n",
    "internet_observed \n"
   ]
  },
  {
   "cell_type": "code",
   "execution_count": null,
   "id": "cdf53c98",
   "metadata": {},
   "outputs": [],
   "source": [
    "# Example contingency table\n",
    "internet_observed1 = np.array([\n",
    "    [1095, 254],\n",
    "    [1019, 726],\n",
    "    [783, 66]\n",
    "])"
   ]
  },
  {
   "cell_type": "code",
   "execution_count": null,
   "id": "f00935da",
   "metadata": {},
   "outputs": [],
   "source": [
    "# Perform chi-square test\n",
    "chi2, p, dof, expected = chi2_contingency(internet_observed)"
   ]
  },
  {
   "cell_type": "code",
   "execution_count": null,
   "id": "12ec0f4a",
   "metadata": {},
   "outputs": [],
   "source": [
    "# Print chi-square statistic, p-value, degrees of freedom, and expected frequencies\n",
    "print(\"Chi-square statistic:\", chi2)\n",
    "print(\"p-value:\", p)\n",
    "print(\"Degrees of freedom:\", dof)\n",
    "print(\"Expected frequencies:\", expected)"
   ]
  },
  {
   "cell_type": "code",
   "execution_count": null,
   "id": "ba747144",
   "metadata": {},
   "outputs": [],
   "source": [
    "# Plot the observed frequencies\n",
    "fig, ax = plt.subplots()\n",
    "cax = ax.matshow(internet_observed1, cmap='RdYlBu')\n",
    "fig.colorbar(cax)\n",
    "\n",
    "# Add text to each cell\n",
    "for i in range(internet_observed1.shape[0]):\n",
    "    for j in range(internet_observed1.shape[1]):\n",
    "        ax.text(j, i, internet_observed1[i, j], va='center', ha='center')\n",
    "\n",
    "# Set x and y axis labels\n",
    "plt.xlabel('Column')\n",
    "plt.ylabel('Row')\n",
    "\n",
    "# Set plot title\n",
    "plt.title('Observed Frequencies')\n",
    "\n",
    "# Show the plot\n",
    "plt.show()"
   ]
  },
  {
   "cell_type": "code",
   "execution_count": null,
   "id": "7382dc40",
   "metadata": {},
   "outputs": [],
   "source": [
    "print(f'The p-value is less than the alpha: {p < alpha}')\n",
    "\n",
    "if p < alpha:\n",
    "    print('Outcome: We reject the null')\n",
    "else:\n",
    "    print(\"Outcome: we fail to reject the null\")"
   ]
  },
  {
   "cell_type": "code",
   "execution_count": null,
   "id": "82b4f705",
   "metadata": {},
   "outputs": [],
   "source": [
    "Statistical Findings\n",
    "Senior Citizen Hypothesis - We reject the Null Hypothesis, senior citizen status is dependent on customer churn.\n",
    "Tenure Hypothesis - We reject the Null Hypothesis, tenure is dependent on customer churn.\n",
    "Internet Service Hypothesis We reject the Null Hypothesis, internet service type is is dependent on customer churn."
   ]
  },
  {
   "cell_type": "code",
   "execution_count": null,
   "id": "bd644fd8",
   "metadata": {},
   "outputs": [],
   "source": [
    "MODEL"
   ]
  },
  {
   "cell_type": "code",
   "execution_count": null,
   "id": "729c33da",
   "metadata": {},
   "outputs": [],
   "source": [
    "#Split the data in to X and Y for all datasets with churn and those without \n",
    "X_train = train.select_dtypes(exclude=['object']).drop(columns=['churn'])\n",
    "y_train = train.select_dtypes(exclude=['object']).churn\n",
    "\n",
    "X_validate = validate.select_dtypes(exclude=['object']).drop(columns=['churn'])\n",
    "y_validate = validate.select_dtypes(exclude=['object']).churn\n",
    "\n",
    "X_test = test.select_dtypes(exclude=['object']).drop(columns=['churn'])\n",
    "y_test = test.select_dtypes(exclude=['object']).churn"
   ]
  },
  {
   "cell_type": "code",
   "execution_count": null,
   "id": "b47bf1d1",
   "metadata": {},
   "outputs": [],
   "source": [
    "Evaluate on Baseline"
   ]
  },
  {
   "cell_type": "code",
   "execution_count": null,
   "id": "380bbc54",
   "metadata": {},
   "outputs": [],
   "source": [
    "#Exploring churn The majority churn. value counts were '0', and will be use to define baseline\n",
    "train.churn.value_counts()"
   ]
  },
  {
   "cell_type": "code",
   "execution_count": null,
   "id": "89630233",
   "metadata": {},
   "outputs": [],
   "source": [
    "baseline =(y_train==0).mean()\n",
    "print(f'The baseline accuracy is: {baseline:.2%}')"
   ]
  },
  {
   "cell_type": "code",
   "execution_count": null,
   "id": "190fc71a",
   "metadata": {},
   "outputs": [],
   "source": [
    "RANDOM FOREST"
   ]
  },
  {
   "cell_type": "code",
   "execution_count": null,
   "id": "d41bcc4a",
   "metadata": {},
   "outputs": [],
   "source": [
    "#Make Random Forest Classifier model\n",
    "random = RandomForestClassifier(bootstrap=True, \n",
    "                            class_weight=None, \n",
    "                            criterion='gini',\n",
    "                            min_samples_leaf=1,\n",
    "                            n_estimators=100,\n",
    "                            max_depth=10, \n",
    "                            random_state=40)"
   ]
  },
  {
   "cell_type": "code",
   "execution_count": null,
   "id": "fc428882",
   "metadata": {},
   "outputs": [],
   "source": [
    "#Fit  Random Forest Classifier model \n",
    "random.fit(X_train, y_train)"
   ]
  },
  {
   "cell_type": "code",
   "execution_count": null,
   "id": "cb476d63",
   "metadata": {},
   "outputs": [],
   "source": [
    "#Use  Random Forest Classifier model \n",
    "print(f'training score: {random.score(X_train, y_train):.2%}')\n",
    "print(f'validate score: {random.score(X_validate, y_validate):.2%}')\n",
    "print('Random forest scores are both higher than baseline accuracy')"
   ]
  },
  {
   "cell_type": "code",
   "execution_count": null,
   "id": "8a1ceba3",
   "metadata": {},
   "outputs": [],
   "source": [
    "LOGISTIC REGRESSION"
   ]
  },
  {
   "cell_type": "code",
   "execution_count": null,
   "id": "feaef867",
   "metadata": {},
   "outputs": [],
   "source": [
    "# Make Logistic Regression model\n",
    "logreg = LogisticRegression(C=1, random_state=40)\n",
    "logreg.fit(X_train, y_train)\n",
    "y_pred = logreg.predict(X_train)"
   ]
  },
  {
   "cell_type": "code",
   "execution_count": null,
   "id": "a6416261",
   "metadata": {},
   "outputs": [],
   "source": [
    "print(f'logistic regression training score: {logreg.score(X_train, y_train):.2%}')\n",
    "print(f'logistic regression validate score: {logreg.score(X_validate, y_validate):.2%}')\n",
    "print('Logistic regression scores are both higher than baseline accuracy')"
   ]
  },
  {
   "cell_type": "code",
   "execution_count": null,
   "id": "15d50c3c",
   "metadata": {},
   "outputs": [],
   "source": [
    "DECISION TREE"
   ]
  },
  {
   "cell_type": "code",
   "execution_count": null,
   "id": "b3e74d7c",
   "metadata": {},
   "outputs": [],
   "source": [
    "# Make, FIT, Use Decision Tree\n",
    "decision = DecisionTreeClassifier(max_depth=3, random_state=40)\n",
    "decision = decision.fit(X_train, y_train)"
   ]
  },
  {
   "cell_type": "code",
   "execution_count": null,
   "id": "376ca8ae",
   "metadata": {},
   "outputs": [],
   "source": [
    "print(f'Decision tree training score: {decision.score(X_train, y_train):.2%}')\n",
    "print(f'Decision tree validate score: {decision.score(X_validate, y_validate):.2%}')\n",
    "print('Decision tree scores are both higher than baseline accuracy')"
   ]
  },
  {
   "cell_type": "code",
   "execution_count": null,
   "id": "9e050e73",
   "metadata": {},
   "outputs": [],
   "source": [
    "TOP Model Selection\n",
    "Although Random Forest models scored higher than the baseline accuracy of 74%, and the scores were consistent in both training and validation models, Decision Tree and Logistic Regression models had better accuracy and consistency than Random Forest Tree, with both model sets achieving an accuracy of around 79%. The Decision Tree model was chosen.\n",
    "\n",
    "TOP MODEL Test"
   ]
  },
  {
   "cell_type": "code",
   "execution_count": null,
   "id": "ed1109c8",
   "metadata": {},
   "outputs": [],
   "source": [
    "decision.fit(X_test, y_test)\n",
    "y_prediction = decision.predict(X_test)\n",
    "# decision.classes_\n",
    "#  decision.predict_proba(X_test) [:,1]"
   ]
  },
  {
   "cell_type": "code",
   "execution_count": null,
   "id": "d7ac9cf7",
   "metadata": {},
   "outputs": [],
   "source": [
    "print(f'Decision tree test score: {decision.score(X_test, y_test):.2%}')\n",
    "print('Train & Validate decision tree model scores were higher than baseline accuracy with a consistant accuracy of 79%. Test Decesion Tree was 81%') "
   ]
  },
  {
   "cell_type": "code",
   "execution_count": null,
   "id": "2d3b342a",
   "metadata": {},
   "outputs": [],
   "source": [
    "y_test_pred = pd.DataFrame({\n",
    "    'customer_id': test['customer_id'],\n",
    "    'Probability of churn': decision.predict_proba(X_test) [:,1],\n",
    "    'Test Prediction': decision.predict(X_test)\n",
    "})\n",
    "y_test_pred.head()"
   ]
  },
  {
   "cell_type": "code",
   "execution_count": null,
   "id": "72f4a0f0",
   "metadata": {},
   "outputs": [],
   "source": [
    "print(classification_report(y_test, y_prediction))\n"
   ]
  },
  {
   "cell_type": "code",
   "execution_count": null,
   "id": "7b472aad",
   "metadata": {},
   "outputs": [],
   "source": [
    "\n",
    "Conclusion Summary\n",
    "Three features selected based on their visual significance and chi-square statistical testing for training the Classification Model to determine their significant relationship to churn.\n",
    "Senior Citizen Hypothesis - We reject the Null Hypothesis, senior citizen status is dependent on customer churn.\n",
    "Tenure Hypothesis - We reject the Null Hypothesis, tenure is dependent on customer churn.\n",
    "Internet Service Hypothesis We reject the Null Hypothesis, internet service type is is dependent on customer churn.\n",
    "Decision Tree, Logistic Regression, and Random Forest models were implemented with a Random Seed of 40 to avoid overfitting.\n",
    "The Deceision and Logistic Regression model outperformed the baseline accuracy of 73% and consistently. Decision Tree Model was selected as Top Model and achieved an accuracy of approximately 80% on the train, validate, and test sets.\n",
    "Recommendations\n",
    "Telco should focus on retaining senior citizens by providing them with special discounts or services.\n",
    "Telco should focus on retaining customers with long tenure by providing them with loyalty programs or other incentives.\n",
    "Telco should focus on improving the internet service speeds for customers with DSL orand coverage and bundle deals for customers with no internet service.\n",
    "Takeaways\n",
    "The factors of senior citizen status, tenure, and internet service type can influence customer churn at Telco.\n",
    "\n",
    "Telco should focus on retaining customers who are more likely to churn by providing them with special discounts, service upgrades, or incentives\n",
    "\n",
    "Improving these factors can reduce churn rates."
   ]
  }
 ],
 "metadata": {
  "kernelspec": {
   "display_name": "Python 3 (ipykernel)",
   "language": "python",
   "name": "python3"
  },
  "language_info": {
   "codemirror_mode": {
    "name": "ipython",
    "version": 3
   },
   "file_extension": ".py",
   "mimetype": "text/x-python",
   "name": "python",
   "nbconvert_exporter": "python",
   "pygments_lexer": "ipython3",
   "version": "3.10.9"
  }
 },
 "nbformat": 4,
 "nbformat_minor": 5
}
